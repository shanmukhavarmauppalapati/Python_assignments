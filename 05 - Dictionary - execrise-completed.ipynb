{
 "cells": [
  {
   "cell_type": "markdown",
   "metadata": {},
   "source": [
    "# Assignment Instructions\n",
    "\n",
    "`Hello Innominion,`\n",
    "\n",
    "- **Try to attempt all the questions in every possible way.**\n",
    "- **Some other topics are required to solve some questions. don't panic.**\n",
    "- **Those questions can be answered after the topics are taught.**\n",
    "\n",
    "\n",
    "- `Join Mentoring Session for the Support/Doubts Resolving with Our Technical Mentors (2.00 PM - 6.00 PM  Mon-Sat)` \n",
    "\n",
    "Happy Learning !!!"
   ]
  },
  {
   "cell_type": "markdown",
   "metadata": {},
   "source": [
    "###  Dictionary"
   ]
  },
  {
   "cell_type": "markdown",
   "metadata": {},
   "source": [
    "**`Question :`Create Dictionary for following information as \"person1\":**\n",
    "   - Name = John\n",
    "   - Gender= Male\n",
    "   - Occupation = Data Scientist\n",
    "   - Location  = Nizampet, Hyderabad"
   ]
  },
  {
   "cell_type": "code",
   "execution_count": 178,
   "metadata": {},
   "outputs": [
    {
     "data": {
      "text/plain": [
       "{'name': 'john',\n",
       " 'gender': 'male',\n",
       " 'occupation': 'data scientist ',\n",
       " 'location': 'Nizampet Hyderabad'}"
      ]
     },
     "execution_count": 178,
     "metadata": {},
     "output_type": "execute_result"
    }
   ],
   "source": [
    "# CODE HERE\n",
    "person1={'name': 'john' ,'gender': 'male', 'occupation': 'data scientist ','location': 'Nizampet Hyderabad'}\n",
    "person1"
   ]
  },
  {
   "cell_type": "code",
   "execution_count": null,
   "metadata": {},
   "outputs": [],
   "source": []
  },
  {
   "cell_type": "code",
   "execution_count": null,
   "metadata": {},
   "outputs": [],
   "source": []
  },
  {
   "cell_type": "markdown",
   "metadata": {},
   "source": [
    "> print keys in person1 as a list"
   ]
  },
  {
   "cell_type": "code",
   "execution_count": 179,
   "metadata": {},
   "outputs": [
    {
     "data": {
      "text/plain": [
       "{'name': 'john',\n",
       " 'gender': 'male',\n",
       " 'occupation': 'data scientist ',\n",
       " 'location': 'Nizampet Hyderabad'}"
      ]
     },
     "execution_count": 179,
     "metadata": {},
     "output_type": "execute_result"
    }
   ],
   "source": [
    "# CODE HERE\n",
    "person1"
   ]
  },
  {
   "cell_type": "code",
   "execution_count": 180,
   "metadata": {},
   "outputs": [
    {
     "data": {
      "text/plain": [
       "['name', 'gender', 'occupation', 'location']"
      ]
     },
     "execution_count": 180,
     "metadata": {},
     "output_type": "execute_result"
    }
   ],
   "source": [
    "person1\n",
    "list(person1.keys())"
   ]
  },
  {
   "cell_type": "code",
   "execution_count": null,
   "metadata": {},
   "outputs": [],
   "source": []
  },
  {
   "cell_type": "markdown",
   "metadata": {},
   "source": [
    "> **`Question:` Remove Location in person1**"
   ]
  },
  {
   "cell_type": "code",
   "execution_count": 181,
   "metadata": {},
   "outputs": [
    {
     "data": {
      "text/plain": [
       "{'name': 'john',\n",
       " 'gender': 'male',\n",
       " 'occupation': 'data scientist ',\n",
       " 'location': 'Nizampet Hyderabad'}"
      ]
     },
     "execution_count": 181,
     "metadata": {},
     "output_type": "execute_result"
    }
   ],
   "source": [
    "# CODE HERE\n",
    "person1"
   ]
  },
  {
   "cell_type": "code",
   "execution_count": 182,
   "metadata": {},
   "outputs": [
    {
     "data": {
      "text/plain": [
       "{'name': 'john', 'gender': 'male', 'occupation': 'data scientist '}"
      ]
     },
     "execution_count": 182,
     "metadata": {},
     "output_type": "execute_result"
    }
   ],
   "source": [
    "person1.pop('location')\n",
    "person1"
   ]
  },
  {
   "cell_type": "code",
   "execution_count": null,
   "metadata": {},
   "outputs": [],
   "source": []
  },
  {
   "cell_type": "code",
   "execution_count": null,
   "metadata": {},
   "outputs": [],
   "source": []
  },
  {
   "cell_type": "markdown",
   "metadata": {},
   "source": [
    "> **`Question:` Create dictionary of person2 with**\n",
    "- Name  = Raghu Ram\n",
    "- Gender = Male\n",
    "- Age  = 25\n",
    "- Occupation = Data Scienctist"
   ]
  },
  {
   "cell_type": "code",
   "execution_count": 183,
   "metadata": {},
   "outputs": [
    {
     "data": {
      "text/plain": [
       "{'Name': 'Raghu Ram',\n",
       " 'Gender': 'Male',\n",
       " 'Age': '25',\n",
       " 'Occupation': 'Data Scientist'}"
      ]
     },
     "execution_count": 183,
     "metadata": {},
     "output_type": "execute_result"
    }
   ],
   "source": [
    "# CODE HERE\n",
    "person2={'Name':'Raghu Ram', 'Gender':'Male','Age':'25','Occupation':'Data Scientist'}\n",
    "person2"
   ]
  },
  {
   "cell_type": "code",
   "execution_count": null,
   "metadata": {},
   "outputs": [],
   "source": []
  },
  {
   "cell_type": "code",
   "execution_count": 184,
   "metadata": {},
   "outputs": [
    {
     "data": {
      "text/plain": [
       "{'Name': 'Raghu Ram',\n",
       " 'Gender': 'Male',\n",
       " 'Age': '25',\n",
       " 'Occupation': 'Data Scientist'}"
      ]
     },
     "execution_count": 184,
     "metadata": {},
     "output_type": "execute_result"
    }
   ],
   "source": [
    "person2"
   ]
  },
  {
   "cell_type": "markdown",
   "metadata": {},
   "source": [
    "> **`Question:` Print the output as show below**"
   ]
  },
  {
   "cell_type": "code",
   "execution_count": 185,
   "metadata": {},
   "outputs": [
    {
     "name": "stdout",
     "output_type": "stream",
     "text": [
      "{'name': 'john', 'gender': 'male', 'occupation': 'data scientist '}\n",
      "{'Name': 'Raghu Ram', 'Gender': 'Male', 'Age': '25', 'Occupation': 'Data Scientist'}\n"
     ]
    }
   ],
   "source": [
    "# CODE HERE\n",
    "print(person1)\n",
    "print(person2)"
   ]
  },
  {
   "cell_type": "markdown",
   "metadata": {},
   "source": [
    "# create a dictionary\n",
    "#### `Question:` remove the elements from that dictionary using different methods\n",
    "{1: 1, 2: 4, 3: 9, 4: 16, 5: 25,6:36,7:49}"
   ]
  },
  {
   "cell_type": "code",
   "execution_count": 186,
   "metadata": {},
   "outputs": [
    {
     "data": {
      "text/plain": [
       "{1: 1, 2: 4, 3: 9, 4: 16, 5: 25, 6: 36}"
      ]
     },
     "execution_count": 186,
     "metadata": {},
     "output_type": "execute_result"
    }
   ],
   "source": [
    "# CODE HERE\n",
    "p={1: 1, 2: 4, 3: 9, 4: 16, 5: 25,6:36,7:49}\n",
    "p.popitem()\n",
    "p"
   ]
  },
  {
   "cell_type": "code",
   "execution_count": 187,
   "metadata": {},
   "outputs": [
    {
     "data": {
      "text/plain": [
       "36"
      ]
     },
     "execution_count": 187,
     "metadata": {},
     "output_type": "execute_result"
    }
   ],
   "source": [
    "p.pop(6)\n"
   ]
  },
  {
   "cell_type": "code",
   "execution_count": 188,
   "metadata": {},
   "outputs": [],
   "source": [
    "del (p)[5]"
   ]
  },
  {
   "cell_type": "code",
   "execution_count": 189,
   "metadata": {},
   "outputs": [
    {
     "data": {
      "text/plain": [
       "{1: 1, 2: 4, 3: 9, 4: 16}"
      ]
     },
     "execution_count": 189,
     "metadata": {},
     "output_type": "execute_result"
    }
   ],
   "source": [
    "p"
   ]
  },
  {
   "cell_type": "code",
   "execution_count": 190,
   "metadata": {},
   "outputs": [],
   "source": [
    "p.clear()"
   ]
  },
  {
   "cell_type": "code",
   "execution_count": 191,
   "metadata": {},
   "outputs": [
    {
     "data": {
      "text/plain": [
       "{}"
      ]
     },
     "execution_count": 191,
     "metadata": {},
     "output_type": "execute_result"
    }
   ],
   "source": [
    "p"
   ]
  },
  {
   "cell_type": "markdown",
   "metadata": {},
   "source": [
    "\n",
    "### `Question:` print the values from the given dictionary in descending order\n",
    "{0: 0, 1: 1, 3: 9, 5: 25, 7: 49, 9: 81}"
   ]
  },
  {
   "cell_type": "code",
   "execution_count": 192,
   "metadata": {},
   "outputs": [
    {
     "name": "stdout",
     "output_type": "stream",
     "text": [
      "original dictionary: {0: 0, 1: 1, 3: 9, 5: 25, 7: 49, 9: 81}\n",
      "Dictionary in descending order by value :  {9: 81, 7: 49, 5: 25, 3: 9, 1: 1, 0: 0}\n"
     ]
    }
   ],
   "source": [
    "# CODE HERE\n",
    "p={0: 0, 1: 1, 3: 9, 5: 25, 7: 49, 9: 81}\n",
    "print('original dictionary:', p)\n",
    "sorted_p = dict( sorted(p.items(),reverse=True))\n",
    "print('Dictionary in descending order by value : ',sorted_p)\n",
    "\n"
   ]
  },
  {
   "cell_type": "markdown",
   "metadata": {},
   "source": [
    "### `Question:` merge the below 3 dictionaries\n",
    "dict1 = { 'a': 1, 'b': 2 }\n",
    "dict2 = { 'b': 3, 'c': 4 }\n",
    "dict3 = { 'c': 5, 'd': 6 }"
   ]
  },
  {
   "cell_type": "code",
   "execution_count": 193,
   "metadata": {},
   "outputs": [],
   "source": [
    "dict_1={ 'a': 1, 'b': 2 }\n",
    "dict_2 ={ 'b': 3, 'c': 4 }\n",
    "dict_3 ={ 'c': 5, 'd': 6 }\n"
   ]
  },
  {
   "cell_type": "code",
   "execution_count": 204,
   "metadata": {},
   "outputs": [
    {
     "name": "stdout",
     "output_type": "stream",
     "text": [
      "updated dictionary of dict_1 & dict_2: {'a': 1, 'b': 3, 'c': 5, 'd': 6}\n",
      "updated dictionary dict_2 & dict_3: {'b': 3, 'c': 5, 'd': 6}\n",
      "final updated dictionary dict_1 & dict_2: {'a': 1, 'b': 3, 'c': 5, 'd': 6}\n"
     ]
    }
   ],
   "source": [
    "dict_1.update(dict_2)\n",
    "print('updated dictionary of dict_1 & dict_2:', dict_1)\n",
    "dict_2.update(dict_3)\n",
    "print('updated dictionary dict_2 & dict_3:', dict_2)\n",
    "dict_1.update(dict_2)\n",
    "print('final updated dictionary dict_1 & dict_2:', dict_1)"
   ]
  },
  {
   "cell_type": "markdown",
   "metadata": {},
   "source": [
    "**`Question:` change Charan’s salary to 8500 in the following dictionary**"
   ]
  },
  {
   "cell_type": "raw",
   "metadata": {},
   "source": [
    "sample_dict = {\n",
    "    'emp1': {'name':'Jhony', 'salary': 7500},\n",
    "    'emp2': {'name':'Ravi', 'salary': 8000},\n",
    "    'emp3': {'name': 'Charan', 'salary': 6500}\n",
    "}"
   ]
  },
  {
   "cell_type": "code",
   "execution_count": 196,
   "metadata": {},
   "outputs": [
    {
     "name": "stdout",
     "output_type": "stream",
     "text": [
      "{'emp1': {'name': 'Jhony', 'salary': 7500}, 'emp2': {'name': 'Ravi', 'salary': 8000}, 'emp3': {'name': 'Charan', 'salary': 8500}},"
     ]
    }
   ],
   "source": [
    "# CODE HERE\n",
    "sample_dict={'emp1':{'name':'Jhony','salary': 7500},\n",
    "             'emp2': {'name':'Ravi','salary': 8000},\n",
    "             'emp3': {'name':'Charan','salary': 6500}\n",
    "}\n",
    "sample_dict\n",
    "sample_dict['emp3']['salary']=8500\n",
    "print(sample_dict , end=\",\")"
   ]
  },
  {
   "cell_type": "code",
   "execution_count": null,
   "metadata": {},
   "outputs": [],
   "source": []
  },
  {
   "cell_type": "markdown",
   "metadata": {},
   "source": [
    "**`Question:` Print the value of key ‘history’ from the below dict**"
   ]
  },
  {
   "cell_type": "raw",
   "metadata": {},
   "source": [
    "sampleDict = {\n",
    "    \"class\": {\n",
    "        \"student\": {\n",
    "            \"name\": \"Mike\",\n",
    "            \"marks\": {\n",
    "                \"physics\": 70,\n",
    "                \"history\": 80\n",
    "            }\n",
    "        }\n",
    "    }\n",
    "}"
   ]
  },
  {
   "cell_type": "code",
   "execution_count": 203,
   "metadata": {},
   "outputs": [
    {
     "data": {
      "text/plain": [
       "80"
      ]
     },
     "execution_count": 203,
     "metadata": {},
     "output_type": "execute_result"
    }
   ],
   "source": [
    "sample_dict = {\n",
    "    \"class\": {\n",
    "        \"student\": {\n",
    "            \"name\": \"Mike\",\n",
    "            \"marks\": {\n",
    "                \"physics\": 70,\n",
    "                \"history\": 80\n",
    "            }\n",
    "        }\n",
    "    }\n",
    "}\n",
    "\n",
    "sample_dict\n",
    "sample_dict['class']['student']['marks']['history']"
   ]
  },
  {
   "cell_type": "code",
   "execution_count": null,
   "metadata": {},
   "outputs": [],
   "source": []
  },
  {
   "cell_type": "code",
   "execution_count": 198,
   "metadata": {},
   "outputs": [],
   "source": [
    "# CODE HERE"
   ]
  },
  {
   "cell_type": "code",
   "execution_count": null,
   "metadata": {},
   "outputs": [],
   "source": []
  },
  {
   "cell_type": "markdown",
   "metadata": {},
   "source": [
    "**`Question:` Rename a key Location to a Area in the following dictionary**"
   ]
  },
  {
   "cell_type": "raw",
   "metadata": {},
   "source": [
    "{'Gender': 'Male',\n",
    " 'Location': 'Nizampet, Hyderabad',\n",
    " 'Name': 'John',\n",
    " 'Occupation': 'Data Scientist'}"
   ]
  },
  {
   "cell_type": "code",
   "execution_count": 199,
   "metadata": {},
   "outputs": [
    {
     "data": {
      "text/plain": [
       "{'Gender': 'Male',\n",
       " 'Name': 'John',\n",
       " 'Occupation': 'Data Scientist',\n",
       " 'Area': 'Nizampet, Hyderabad'}"
      ]
     },
     "execution_count": 199,
     "metadata": {},
     "output_type": "execute_result"
    }
   ],
   "source": [
    "# CODE HERE\n",
    "sample_dict9={'Gender': 'Male','Location': 'Nizampet, Hyderabad','Name': 'John','Occupation': 'Data Scientist'}\n",
    "sample_dict9['Area']=sample_dict9.pop(\"Location\")\n",
    "sample_dict9"
   ]
  },
  {
   "cell_type": "markdown",
   "metadata": {},
   "source": [
    "**`Question:` database = {'ram':1234,'raghu':5678,'kanav':1357}**\n",
    "## Tasks :-\n",
    "### 1. if the username and password matches print hello username\n",
    "### 2. if the username and password doesnot match, ask, you want me to add into the database\n",
    "### 3. show the updated database list\n"
   ]
  },
  {
   "cell_type": "code",
   "execution_count": 16,
   "metadata": {},
   "outputs": [
    {
     "name": "stdout",
     "output_type": "stream",
     "text": [
      "Enter username :- ravana\n",
      "You are not valid user please add to the database.\n"
     ]
    }
   ],
   "source": [
    "ABC = {'ram':\"1234\",'raghu':\"5678\",'kanav':\"1357\"}\n",
    "username = input(\"Enter username :- \")\n",
    "\n",
    "if username in ABC :\n",
    "    password = input(\"Enter password :- \")rava\n",
    "    if ABC[username] == password :\n",
    "        print (\"Hello!:\",username)\n",
    "    else :\n",
    "        print (\"Invalid Entry please correct your username/password. / please add me to the database\")\n",
    "        \n",
    "else :\n",
    "    print (\"You are not valid user please add to the database.\")"
   ]
  },
  {
   "cell_type": "markdown",
   "metadata": {},
   "source": [
    "# [Innomatics Research Labs](https:/innomatics.in/)\n",
    "[www.innomatics.in](https:/innomatics.in/)"
   ]
  },
  {
   "cell_type": "code",
   "execution_count": null,
   "metadata": {},
   "outputs": [],
   "source": []
  }
 ],
 "metadata": {
  "kernelspec": {
   "display_name": "Python 3 (ipykernel)",
   "language": "python",
   "name": "python3"
  },
  "language_info": {
   "codemirror_mode": {
    "name": "ipython",
    "version": 3
   },
   "file_extension": ".py",
   "mimetype": "text/x-python",
   "name": "python",
   "nbconvert_exporter": "python",
   "pygments_lexer": "ipython3",
   "version": "3.9.12"
  }
 },
 "nbformat": 4,
 "nbformat_minor": 2
}
