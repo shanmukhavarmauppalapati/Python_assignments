{
 "cells": [
  {
   "cell_type": "markdown",
   "metadata": {},
   "source": [
    "# IF , ELSE.... FOR LOOP"
   ]
  },
  {
   "cell_type": "markdown",
   "metadata": {},
   "source": [
    "> print this is hour in current minute is odd"
   ]
  },
  {
   "cell_type": "code",
   "execution_count": 5,
   "metadata": {},
   "outputs": [
    {
     "name": "stdout",
     "output_type": "stream",
     "text": [
      "enter current time in mimutes:57\n",
      " the entered number is Odd Number: 57\n"
     ]
    }
   ],
   "source": [
    "#CODE HERE\n",
    "n=int(input(\"enter current time in mimutes:\"))\n",
    "if n%2==0:\n",
    "    print(\" the entered number is Even Number:\",n)\n",
    "else:\n",
    "    print(\" the entered number is Odd Number:\",n)"
   ]
  },
  {
   "cell_type": "code",
   "execution_count": 11,
   "metadata": {},
   "outputs": [
    {
     "name": "stdout",
     "output_type": "stream",
     "text": [
      "minute : 53\n",
      "This is Odd minute\n"
     ]
    }
   ],
   "source": [
    "#CODE HERE"
   ]
  },
  {
   "cell_type": "markdown",
   "metadata": {},
   "source": [
    "> if today is satarday then print 'Party !!!' or if sunday print take rest other wise print work , work, work"
   ]
  },
  {
   "cell_type": "code",
   "execution_count": 1,
   "metadata": {},
   "outputs": [
    {
     "name": "stdout",
     "output_type": "stream",
     "text": [
      "enter the day:friday\n",
      "work , work , work\n"
     ]
    }
   ],
   "source": [
    "#CODE HERE\n",
    "day=input('enter the day:')\n",
    "a='sunday'\n",
    "b='saturday'\n",
    "if day==a:\n",
    "    print(\" its sunday! take rest\")\n",
    "    \n",
    "elif day==b:\n",
    "    print(\" its saturday! party hard\")\n",
    "else:\n",
    "    print(\"work , work , work\")"
   ]
  },
  {
   "cell_type": "code",
   "execution_count": null,
   "metadata": {},
   "outputs": [],
   "source": []
  },
  {
   "cell_type": "code",
   "execution_count": 12,
   "metadata": {},
   "outputs": [
    {
     "name": "stdout",
     "output_type": "stream",
     "text": [
      "Today is : Sunday\n",
      "Take Rest.\n"
     ]
    }
   ],
   "source": []
  },
  {
   "cell_type": "markdown",
   "metadata": {},
   "source": [
    "> Write a program which will find all such numbers which are divisible by 7 but are not a multiple of 5, between 2000 and 3200 (both included). The numbers obtained should be printed in a comma-separated sequence on a single line."
   ]
  },
  {
   "cell_type": "code",
   "execution_count": 11,
   "metadata": {},
   "outputs": [
    {
     "name": "stdout",
     "output_type": "stream",
     "text": [
      "2002, 2009, 2016, 2023, 2030, 2037, 2044, 2051, 2058, 2065, 2072, 2079, 2086, 2093, 2100, 2107, 2114, 2121, 2128, 2135, 2142, 2149, 2156, 2163, 2170, 2177, 2184, 2191, 2198, 2205, 2212, 2219, 2226, 2233, 2240, 2247, 2254, 2261, 2268, 2275, 2282, 2289, 2296, 2303, 2310, 2317, 2324, 2331, 2338, 2345, 2352, 2359, 2366, 2373, 2380, 2387, 2394, 2401, 2408, 2415, 2422, 2429, 2436, 2443, 2450, 2457, 2464, 2471, 2478, 2485, 2492, 2499, 2506, 2513, 2520, 2527, 2534, 2541, 2548, 2555, 2562, 2569, 2576, 2583, 2590, 2597, 2604, 2611, 2618, 2625, 2632, 2639, 2646, 2653, 2660, 2667, 2674, 2681, 2688, 2695, 2702, 2709, 2716, 2723, 2730, 2737, 2744, 2751, 2758, 2765, 2772, 2779, 2786, 2793, 2800, 2807, 2814, 2821, 2828, 2835, 2842, 2849, 2856, 2863, 2870, 2877, 2884, 2891, 2898, 2905, 2912, 2919, 2926, 2933, 2940, 2947, 2954, 2961, 2968, 2975, 2982, 2989, 2996, 3003, 3010, 3017, 3024, 3031, 3038, 3045, 3052, 3059, 3066, 3073, 3080, 3087, 3094, 3101, 3108, 3115, 3122, 3129, 3136, 3143, 3150, 3157, 3164, 3171, 3178, 3185, 3192, 3199, "
     ]
    }
   ],
   "source": [
    "#CODE HERE\n",
    "for i in range(2000,3200):\n",
    "    if i%7==0 and i**5!=0:\n",
    "        print(i,end=\", \")"
   ]
  },
  {
   "cell_type": "code",
   "execution_count": null,
   "metadata": {},
   "outputs": [],
   "source": []
  },
  {
   "cell_type": "code",
   "execution_count": 14,
   "metadata": {},
   "outputs": [
    {
     "name": "stdout",
     "output_type": "stream",
     "text": [
      "2002,2009,2016,2023,2037,2044,2051,2058,2072,2079,2086,2093,2107,2114,2121,2128,2142,2149,2156,2163,2177,2184,2191,2198,2212,2219,2226,2233,2247,2254,2261,2268,2282,2289,2296,2303,2317,2324,2331,2338,2352,2359,2366,2373,2387,2394,2401,2408,2422,2429,2436,2443,2457,2464,2471,2478,2492,2499,2506,2513,2527,2534,2541,2548,2562,2569,2576,2583,2597,2604,2611,2618,2632,2639,2646,2653,2667,2674,2681,2688,2702,2709,2716,2723,2737,2744,2751,2758,2772,2779,2786,2793,2807,2814,2821,2828,2842,2849,2856,2863,2877,2884,2891,2898,2912,2919,2926,2933,2947,2954,2961,2968,2982,2989,2996,3003,3017,3024,3031,3038,3052,3059,3066,3073,3087,3094,3101,3108,3122,3129,3136,3143,3157,3164,3171,3178,3192,3199\n"
     ]
    }
   ],
   "source": [
    "#CODE HERE"
   ]
  },
  {
   "cell_type": "markdown",
   "metadata": {},
   "source": [
    "> Write a program which can compute the factorial of a given numbers.\n",
    "The results should be printed in a comma-separated sequence on a single line.\n",
    "Suppose the following input is supplied to the program:\n",
    "8\n",
    "Then, the output should be:\n",
    "40320"
   ]
  },
  {
   "cell_type": "code",
   "execution_count": 15,
   "metadata": {},
   "outputs": [
    {
     "name": "stdout",
     "output_type": "stream",
     "text": [
      "Enter the value to compute the factorial: 8\n",
      "8! = 40320\n"
     ]
    }
   ],
   "source": [
    "#CODE HERE"
   ]
  },
  {
   "cell_type": "code",
   "execution_count": 19,
   "metadata": {},
   "outputs": [
    {
     "name": "stdout",
     "output_type": "stream",
     "text": [
      " enter the value to compute the factorial: 8\n",
      "the factorial of 8 is :40320\n"
     ]
    }
   ],
   "source": [
    "s"
   ]
  },
  {
   "cell_type": "code",
   "execution_count": null,
   "metadata": {},
   "outputs": [],
   "source": []
  },
  {
   "cell_type": "code",
   "execution_count": null,
   "metadata": {},
   "outputs": [],
   "source": []
  },
  {
   "cell_type": "code",
   "execution_count": null,
   "metadata": {},
   "outputs": [],
   "source": []
  },
  {
   "cell_type": "markdown",
   "metadata": {},
   "source": [
    "> With a given integral number n, write a program to generate a dictionary that contains (i, i*i) such that is an integral number between 1 and n (both included). and then the program should print the dictionary.\n",
    "Suppose the following input is supplied to the program:\n",
    "8\n",
    "Then, the output should be:\n",
    "{1: 1, 2: 4, 3: 9, 4: 16, 5: 25, 6: 36, 7: 49, 8: 64}\n",
    "\n",
    "*Hint* : use dict()"
   ]
  },
  {
   "cell_type": "code",
   "execution_count": 114,
   "metadata": {},
   "outputs": [
    {
     "name": "stdout",
     "output_type": "stream",
     "text": [
      "Type a number: 8\n",
      "{1: 1, 2: 4, 3: 9, 4: 16, 5: 25, 6: 36, 7: 49, 8: 64}\n"
     ]
    }
   ],
   "source": [
    "number = int(input(\"Type a number: \"))\n",
    "\n",
    "numberDict = {}\n",
    "for i in range(1, number+1):\n",
    "    numberDict[i] = i*i\n",
    "\n",
    "print(numberDict)"
   ]
  },
  {
   "cell_type": "markdown",
   "metadata": {},
   "source": [
    "> create user defined fuction for \n",
    "- addition \"add\"\n",
    "- subtraction \"sub\"\n",
    "- multiplication \"mul\"\n",
    "- division \"div\"\n",
    "- power \"pow\""
   ]
  },
  {
   "cell_type": "code",
   "execution_count": 112,
   "metadata": {},
   "outputs": [
    {
     "name": "stdout",
     "output_type": "stream",
     "text": [
      "enter the number:6\n",
      "enter the number:1\n",
      "please enter a keyword:mul\n",
      "6\n"
     ]
    }
   ],
   "source": [
    "#CODE HERE\n",
    "p=int(input(\"enter the number:\"))\n",
    "q=int(input(\"enter the number:\"))\n",
    "r=input(\"please enter a keyword:\")\n",
    "if r==\"add\":\n",
    "    print(p+q)\n",
    "elif r==\"sub\":\n",
    "    print(p-q)\n",
    "elif r==\"mul\":\n",
    "    print(p*q)\n",
    "elif r==\"div\":\n",
    "    print(p/q)\n",
    "elif r==\"pow\":\n",
    "    print(p**q)"
   ]
  },
  {
   "cell_type": "markdown",
   "metadata": {},
   "source": [
    "### Write a Python program that accepts a string and calculate the number of digits and letters.\n",
    "- Input\n",
    "\n",
    "    - Hello321Bye360\n",
    "- Output\n",
    "\n",
    "    - Digit - 6\n",
    "\n",
    "    - Letter - 8"
   ]
  },
  {
   "cell_type": "code",
   "execution_count": 108,
   "metadata": {},
   "outputs": [
    {
     "name": "stdout",
     "output_type": "stream",
     "text": [
      "Total letters found :- 8\n",
      "Total digits found :- 6\n"
     ]
    }
   ],
   "source": [
    "# CODE HERE\n",
    "all_digits = ['0', '1', '2', '3', '4', '5', '6', '7', '8', '9']\n",
    "all_letters = ['a', 'b', 'c', 'd', 'e', 'f', 'g', 'h', 'i', 'j', 'k', 'l','m', 'n', 'o', 'p', 'q', 'r', 's', 't', 'u', 'v', 'w', 'x', 'y', 'z']\n",
    "string = \"hello321bye360\"\n",
    "total_digits = 0\n",
    "total_letters = 0\n",
    "for s in string:\n",
    "    if s in all_digits:\n",
    "          total_digits += 1\n",
    "\n",
    "            # if character found in all_letters then increment total_letters by one\n",
    "    elif s in all_letters:\n",
    "         total_letters += 1\n",
    "\n",
    "print(\"Total letters found :-\", total_letters)\n",
    "print(\"Total digits found :-\", total_digits)\n"
   ]
  },
  {
   "cell_type": "markdown",
   "metadata": {},
   "source": [
    "### With a given tuple (1,2,3,4,5,6,7,8,9,10), write a program to print the first half values in one line and the last half values in one line."
   ]
  },
  {
   "cell_type": "code",
   "execution_count": 102,
   "metadata": {},
   "outputs": [
    {
     "name": "stdout",
     "output_type": "stream",
     "text": [
      "1 2 3 4 5 \n",
      "6 7 8 9 10 "
     ]
    }
   ],
   "source": [
    "# METHOD - 1\n",
    "\n",
    "tpl = (1,2,3,4,5,6,7,8,9,10)\n",
    "\n",
    "for i in range(0,5):\n",
    "    print(tpl[i],end = ' ')\n",
    "print()\n",
    "for i in range(5,10):\n",
    "    print(tpl[i],end = ' ')"
   ]
  },
  {
   "cell_type": "code",
   "execution_count": 100,
   "metadata": {},
   "outputs": [
    {
     "data": {
      "text/plain": [
       "((1, 2, 3, 4, 5), (6, 7, 8, 9, 10))"
      ]
     },
     "execution_count": 100,
     "metadata": {},
     "output_type": "execute_result"
    }
   ],
   "source": [
    "# METHOD - 2\n",
    "\n",
    "tp=(1,2,3,4,5,6,7,8,9,10)\n",
    "tp[0:5] , tp[5:11]"
   ]
  },
  {
   "cell_type": "code",
   "execution_count": 101,
   "metadata": {},
   "outputs": [
    {
     "name": "stdout",
     "output_type": "stream",
     "text": [
      "[1, 2, 3, 4, 5]\n",
      "[6, 7, 8, 9, 10]\n"
     ]
    }
   ],
   "source": [
    "# METHOD - 3\n",
    "\n",
    "tp=(1,2,3,4,5,6,7,8,9,10)\n",
    "a=tp1=tp[0:5]\n",
    "b=tp2=tp[5:11]\n",
    "print(list(a))\n",
    "print(list(b))"
   ]
  },
  {
   "cell_type": "markdown",
   "metadata": {},
   "source": [
    "### Write a program to generate and print another tuple whose values are even numbers in the given tuple (1,2,3,4,5,6,7,8,9,10)"
   ]
  },
  {
   "cell_type": "code",
   "execution_count": 67,
   "metadata": {},
   "outputs": [
    {
     "data": {
      "text/plain": [
       "(2, 4, 6, 8, 10)"
      ]
     },
     "execution_count": 67,
     "metadata": {},
     "output_type": "execute_result"
    }
   ],
   "source": [
    "b=(1,2,3,4,5,6,7,8,9,10)\n",
    "l=[]\n",
    "for i in b:\n",
    "    if i%2==0:\n",
    "        l.append(i)\n",
    "t=tuple(l)\n",
    "t"
   ]
  },
  {
   "cell_type": "markdown",
   "metadata": {},
   "source": [
    "### Write a program which accepts a string as input to print \"Yes\" if the string is \"yes\" or \"YES\" or \"Yes\", otherwise print \"No\""
   ]
  },
  {
   "cell_type": "code",
   "execution_count": 105,
   "metadata": {},
   "outputs": [
    {
     "name": "stdout",
     "output_type": "stream",
     "text": [
      "Please type something. --> 9\n",
      "No\n"
     ]
    }
   ],
   "source": [
    "text = input(\"Please type something. --> \")\n",
    "if text == \"yes\" or text == \"YES\" or text == \"Yes\":\n",
    "    print(\"Yes\")\n",
    "else:\n",
    "    print(\"No\")"
   ]
  },
  {
   "cell_type": "markdown",
   "metadata": {},
   "source": [
    "### Please write a program to generate a list with 5 random numbers between 100 and 200 inclusive."
   ]
  },
  {
   "cell_type": "code",
   "execution_count": 51,
   "metadata": {},
   "outputs": [
    {
     "name": "stdout",
     "output_type": "stream",
     "text": [
      "[193, 159, 113, 120, 163]\n"
     ]
    }
   ],
   "source": [
    "import random\n",
    "#Generate 5 random numbers between 10 and 30\n",
    "randomlist = random.sample(range(100, 200), 5)\n",
    "print(randomlist)"
   ]
  },
  {
   "cell_type": "markdown",
   "metadata": {},
   "source": [
    "### Please generate a random float where the value is between 5 and 95 using Python module."
   ]
  },
  {
   "cell_type": "code",
   "execution_count": 1,
   "metadata": {},
   "outputs": [
    {
     "name": "stdout",
     "output_type": "stream",
     "text": [
      "75.0600336462709\n"
     ]
    }
   ],
   "source": [
    "import random # Random.uniform Returns a random float number between a range\n",
    "print (random.uniform(5,95))"
   ]
  },
  {
   "cell_type": "markdown",
   "metadata": {},
   "source": [
    "### [1,1,1,1,3,3,4,4,4,5,6,7,8,8,8]\n",
    "#### 1. from the above list print the uniques values\n",
    "#### 2. count how many times each number exist\n",
    "#### 3. Print the number which is occured more number of times"
   ]
  },
  {
   "cell_type": "code",
   "execution_count": 33,
   "metadata": {},
   "outputs": [
    {
     "data": {
      "text/plain": [
       "[1, 3, 4, 5, 6, 7, 8]"
      ]
     },
     "execution_count": 33,
     "metadata": {},
     "output_type": "execute_result"
    }
   ],
   "source": [
    "a=[1,1,1,1,3,3,4,4,4,5,6,7,8,8,8]\n",
    "list(set(a)) # this program is used to print unique values"
   ]
  },
  {
   "cell_type": "code",
   "execution_count": 69,
   "metadata": {},
   "outputs": [
    {
     "name": "stdout",
     "output_type": "stream",
     "text": [
      "the number of times 1 occur in a is: 4\n",
      "the number of times 3 occur in a is: 2\n",
      "the number of times 4 occur in a is: 3\n",
      "the number of times 5 occur in a is: 1\n",
      "the number of times 6 occur in a is: 1\n",
      "the number of times 7 occur in a is: 1\n",
      "the number of times 8 occur in a is: 3\n"
     ]
    }
   ],
   "source": [
    "a=[1,1,1,1,3,3,4,4,4,5,6,7,8,8,8] # this program  displays how many times each number exists\n",
    "\n",
    "print(\"the number of times 1 occur in a is:\",a.count(1))\n",
    "print(\"the number of times 3 occur in a is:\",a.count(3))\n",
    "print(\"the number of times 4 occur in a is:\",a.count(4))\n",
    "print(\"the number of times 5 occur in a is:\",a.count(5))\n",
    "print(\"the number of times 6 occur in a is:\",a.count(6))\n",
    "print(\"the number of times 7 occur in a is:\",a.count(7))\n",
    "print(\"the number of times 8 occur in a is:\",a.count(8))"
   ]
  },
  {
   "cell_type": "code",
   "execution_count": 36,
   "metadata": {},
   "outputs": [
    {
     "name": "stdout",
     "output_type": "stream",
     "text": [
      "1 has occured 4 times\n"
     ]
    }
   ],
   "source": [
    "def countN(a,N):\n",
    "    return a.count(N)\n",
    "a=[1,1,1,1,3,3,4,4,4,5,6,7,8,8,8]\n",
    "N=1\n",
    "print('{} has occured {} times'.format(N,countN(a,N)))"
   ]
  },
  {
   "cell_type": "markdown",
   "metadata": {},
   "source": [
    "# [Innomatics Research Labs](https:/innomatics.in/)\n",
    "[www.innomatics.in](https:/innomatics.in/)"
   ]
  },
  {
   "cell_type": "code",
   "execution_count": null,
   "metadata": {},
   "outputs": [],
   "source": []
  }
 ],
 "metadata": {
  "kernelspec": {
   "display_name": "Python 3 (ipykernel)",
   "language": "python",
   "name": "python3"
  },
  "language_info": {
   "codemirror_mode": {
    "name": "ipython",
    "version": 3
   },
   "file_extension": ".py",
   "mimetype": "text/x-python",
   "name": "python",
   "nbconvert_exporter": "python",
   "pygments_lexer": "ipython3",
   "version": "3.9.12"
  }
 },
 "nbformat": 4,
 "nbformat_minor": 2
}
